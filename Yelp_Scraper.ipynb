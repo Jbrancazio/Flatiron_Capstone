{
 "cells": [
  {
   "cell_type": "code",
   "execution_count": 3,
   "metadata": {},
   "outputs": [],
   "source": [
    "import pandas as pd\n",
    "import numpy as np\n",
    "from bs4 import BeautifulSoup as soup\n",
    "from urllib.request import urlopen as url"
   ]
  },
  {
   "cell_type": "code",
   "execution_count": 4,
   "metadata": {
    "scrolled": true
   },
   "outputs": [],
   "source": [
    "def yelp_scraper(base_url,num_of_reviews,csv_name):\n",
    "    name=[]\n",
    "    review=[]\n",
    "    stars=[]\n",
    "    pages=list(np.arange(0, num_of_reviews, 20))\n",
    "    for page in pages:\n",
    "        my_url=base_url+\"?start=\"+str(page)\n",
    "        request=url(my_url)\n",
    "        htmlscrape=request.read()\n",
    "        request.close()\n",
    "        page_soup = soup(htmlscrape,\"html.parser\")\n",
    "        container=page_soup.findAll(\"div\",{\"class\",\"review review--with-sidebar\"})\n",
    "        for i in container:\n",
    "            name.append(i.find(\"a\", {\"class\":\"user-display-name js-analytics-click\"}).text)\n",
    "            review.append(i.find(\"p\",{\"lang\":\"en\"}).text)\n",
    "            if i.find(\"img\",{\"alt\":\"1.0 star rating\"}):\n",
    "                stars.append(1.0)\n",
    "            elif i.find(\"img\",{\"alt\":\"2.0 star rating\"}):\n",
    "                stars.append(2.0)\n",
    "            elif i.find(\"img\",{\"alt\":\"3.0 star rating\"}):\n",
    "                stars.append(3.0)\n",
    "            elif i.find(\"img\",{\"alt\":\"4.0 star rating\"}):\n",
    "                stars.append(4.0)\n",
    "            else:\n",
    "                stars.append(5.0)\n",
    "    data = pd.DataFrame(zip(name,stars,review),columns=[\"name\",\"stars\",\"review\"])\n",
    "    data.to_csv(csv_name,index=False)"
   ]
  },
  {
   "cell_type": "code",
   "execution_count": 7,
   "metadata": {},
   "outputs": [],
   "source": [
    "yelp_scraper(url,180,\"business_1.csv\")"
   ]
  },
  {
   "cell_type": "code",
   "execution_count": 8,
   "metadata": {},
   "outputs": [],
   "source": [
    "business_1=pd.read_csv(\"business_1.csv\")"
   ]
  },
  {
   "cell_type": "code",
   "execution_count": 9,
   "metadata": {},
   "outputs": [
    {
     "data": {
      "text/html": [
       "<div>\n",
       "<style scoped>\n",
       "    .dataframe tbody tr th:only-of-type {\n",
       "        vertical-align: middle;\n",
       "    }\n",
       "\n",
       "    .dataframe tbody tr th {\n",
       "        vertical-align: top;\n",
       "    }\n",
       "\n",
       "    .dataframe thead th {\n",
       "        text-align: right;\n",
       "    }\n",
       "</style>\n",
       "<table border=\"1\" class=\"dataframe\">\n",
       "  <thead>\n",
       "    <tr style=\"text-align: right;\">\n",
       "      <th></th>\n",
       "      <th>name</th>\n",
       "      <th>stars</th>\n",
       "      <th>review</th>\n",
       "    </tr>\n",
       "  </thead>\n",
       "  <tbody>\n",
       "    <tr>\n",
       "      <th>0</th>\n",
       "      <td>Keith L.</td>\n",
       "      <td>4.0</td>\n",
       "      <td>I am basing this review after one visit, so th...</td>\n",
       "    </tr>\n",
       "    <tr>\n",
       "      <th>1</th>\n",
       "      <td>Cianni E.</td>\n",
       "      <td>4.0</td>\n",
       "      <td>I was hangry one Sunday late afternoon looking...</td>\n",
       "    </tr>\n",
       "    <tr>\n",
       "      <th>2</th>\n",
       "      <td>Eric D.</td>\n",
       "      <td>5.0</td>\n",
       "      <td>Service in a Sunday Brunch was excellent. I ha...</td>\n",
       "    </tr>\n",
       "    <tr>\n",
       "      <th>3</th>\n",
       "      <td>Jess L.</td>\n",
       "      <td>4.0</td>\n",
       "      <td>My husband and I were able to snag a happy hou...</td>\n",
       "    </tr>\n",
       "    <tr>\n",
       "      <th>4</th>\n",
       "      <td>Ted R.</td>\n",
       "      <td>4.0</td>\n",
       "      <td>The Beer Baron's a good spot on College with a...</td>\n",
       "    </tr>\n",
       "  </tbody>\n",
       "</table>\n",
       "</div>"
      ],
      "text/plain": [
       "        name  stars                                             review\n",
       "0   Keith L.    4.0  I am basing this review after one visit, so th...\n",
       "1  Cianni E.    4.0  I was hangry one Sunday late afternoon looking...\n",
       "2    Eric D.    5.0  Service in a Sunday Brunch was excellent. I ha...\n",
       "3    Jess L.    4.0  My husband and I were able to snag a happy hou...\n",
       "4     Ted R.    4.0  The Beer Baron's a good spot on College with a..."
      ]
     },
     "execution_count": 9,
     "metadata": {},
     "output_type": "execute_result"
    }
   ],
   "source": [
    "business_1.head(5)"
   ]
  },
  {
   "cell_type": "code",
   "execution_count": null,
   "metadata": {},
   "outputs": [],
   "source": []
  }
 ],
 "metadata": {
  "kernelspec": {
   "display_name": "Python 3",
   "language": "python",
   "name": "python3"
  },
  "language_info": {
   "codemirror_mode": {
    "name": "ipython",
    "version": 3
   },
   "file_extension": ".py",
   "mimetype": "text/x-python",
   "name": "python",
   "nbconvert_exporter": "python",
   "pygments_lexer": "ipython3",
   "version": "3.6.8"
  }
 },
 "nbformat": 4,
 "nbformat_minor": 2
}
